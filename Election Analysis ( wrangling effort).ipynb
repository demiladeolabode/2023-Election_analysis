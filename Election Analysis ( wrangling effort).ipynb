{
 "cells": [
  {
   "cell_type": "markdown",
   "id": "53b0f9c9",
   "metadata": {},
   "source": [
    "# 2023 Election Analysis: Wrangling Effort"
   ]
  },
  {
   "cell_type": "markdown",
   "id": "b42fc685",
   "metadata": {},
   "source": [
    "## Introduction\n",
    "\n",
    "This report focuses on the data wrangling effort for the \" 2023 Election Analysis\". It includes the documentation of each phase of the analysis.\n",
    "\n",
    "### Tools and IDE:\n",
    "\n",
    "Python Programmimg language was used for the development of the project using Jupter notebook"
   ]
  },
  {
   "cell_type": "markdown",
   "id": "618528a8",
   "metadata": {},
   "source": [
    "## Data Gathering/Mining\n",
    "\n",
    "- Historical Data: Historical data was gathered by downloading structured data(tables) of past election from INEC official website and Wikipedia.\n",
    "\n",
    "\n",
    "- Twitter: I used SNScrape library to query data( tweets, location, users, e.t.c) via the Twitter API using each candidates keyword. Each queried data was stored in a dataframe\n",
    "\n",
    "\n",
    "- Nairaland: I used python libraries (request and beautiful soup) to scrape the politics session. Interested fields include ( topics, posts, views and aurthurs) \n",
    "\n",
    "\n",
    "- Google Trend: Data was gathererd by manually downloading csv files from trends.google.com. Each candidates keyword was included in the search place and subsequently downloaded."
   ]
  },
  {
   "cell_type": "markdown",
   "id": "83c2df4e",
   "metadata": {},
   "source": [
    "## Accessing the Data\n",
    "\n",
    "After successfully gathering the data from various sources, I visulally and progamatically accessed each data sets for quality and tidiness issues. programatic functions for accessing the data include:\n",
    "\n",
    "- .duplicated()\n",
    "- .isnull()\n",
    "- .nunique()\n",
    "- .info()\n",
    "- .describe()\n",
    "- .value_counts()\n",
    "- .head()\n",
    "- .tail()\n",
    "- .sample().\n",
    "\n",
    "### Issues\n",
    "\n",
    "Upon completion of assesing each dataframes, the following quality issues was encountered:\n",
    "\n",
    "\n",
    "#### Twitter:\n",
    "\n",
    "1. Duplicates were found\n",
    "\n",
    "2. Erroneous data type (Date Created column should be string instead of datetime)\n",
    "\n",
    "3. convert Tweet text to lower case \n",
    "\n",
    "4. Since the search is by keyword, keyword for each candidate should be removed from the tweet text in order not to get biased word cloud.\n",
    "\n",
    "5. RT, hashtags, hyperlinks , @ and all punctuation should be cleaned for sentiment analysis\n",
    "\n",
    "6. Apply tokeniztion on Tweet column\n",
    "\n",
    "7. location should be split the the seperating delimeter \n",
    "\n",
    "8. location has 6238 distinct location, should be investigated\n",
    "\n",
    "#### Nairaland:\n",
    "\n",
    "1. Duplicates were found\n",
    "\n",
    "2. View column includes few data points in time format\n",
    "\n",
    "3. Erroneous data type (view column should be integer instead string)\n",
    "\n",
    "4. Convert title column to lower case for sentiment\n",
    "\n",
    "5. For the purpose of analysis filter data points containing tinubu, atiku, and obi .\n",
    "\n",
    "> No quality or tidiness issues found for historical data and google trend \n"
   ]
  },
  {
   "cell_type": "markdown",
   "id": "9ceb8104",
   "metadata": {},
   "source": [
    "## Cleaning the Data\n",
    "\n",
    "all issues detected while accessing was cleaned.\n",
    "\n",
    "#### Tweets and Topics\n",
    "tweets column in Twitter data and topic column in Nairaland are text columns, hence the followimg steps were followed to get them cleaned;\n",
    "\n",
    "1. Convert the text to lower case\n",
    "\n",
    "2. Remove hashtags, RT, hyperlinks, @ and punctuation using REGEX function\n",
    "\n",
    "3. sentence tokenization using nltk\n",
    "\n",
    "4. Removing stop words using nltk"
   ]
  },
  {
   "cell_type": "markdown",
   "id": "6f031505",
   "metadata": {},
   "source": []
  },
  {
   "cell_type": "code",
   "execution_count": null,
   "id": "f8c32df3",
   "metadata": {},
   "outputs": [],
   "source": []
  }
 ],
 "metadata": {
  "kernelspec": {
   "display_name": "Python 3",
   "language": "python",
   "name": "python3"
  },
  "language_info": {
   "codemirror_mode": {
    "name": "ipython",
    "version": 3
   },
   "file_extension": ".py",
   "mimetype": "text/x-python",
   "name": "python",
   "nbconvert_exporter": "python",
   "pygments_lexer": "ipython3",
   "version": "3.8.8"
  }
 },
 "nbformat": 4,
 "nbformat_minor": 5
}
