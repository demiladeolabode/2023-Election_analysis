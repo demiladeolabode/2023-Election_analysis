{
 "cells": [
  {
   "cell_type": "markdown",
   "id": "3f5c85e4",
   "metadata": {},
   "source": [
    "## Table of Contents\n",
    "* [Introduction](#chapter1)\n",
    "    * [Section 1.1](#section_1_1)\n",
    "        * [Sub Section 1.1.1](#sub_section_1_1_1)\n",
    "* [Approach](#chapter2)\n",
    "    * [Section 2.1](#section_2_1)\n",
    "        * [Sub Section 2.1.1](#sub_section_2_1_1)\n",
    "        * [Sub Section 2.1.2](#sub_section_2_1_2)\n",
    "    * [Section 2.2](#section_2_2)\n",
    "        * [Sub Section 2.2.1](#sub_section_2_2_1)\n",
    "        * [Sub Section 2.2.2](#sub_section_2_2_2)\n",
    "* [History of Presidential election](#chapter3)\n",
    "    * [Section 3.1](#section_3_1)\n",
    "        * [Sub Section 3.1.1](#sub_section_3_1_1)\n",
    "        * [Sub Section 3.1.2](#sub_section_3_1_2)\n",
    "    * [Section 3.2](#section_3_2)\n",
    "        * [Sub Section 3.2.1](#sub_section_3_2_1)\n",
    "        * [Sub Section 3.2.2](#sub_section_3_2_2)\n",
    "* [Twitter Analysis](#chapter4)\n",
    "    * [Section 4.1](#section_4_1)\n",
    "        * [Sub Section 4.1.1](#sub_section_4_1_1)\n",
    "        * [Sub Section 4.1.2](#sub_section_4_1_2)\n",
    "    * [Section 4.2](#section_4_2)\n",
    "        * [Sub Section 4.2.1](#sub_section_4_2_1)\n",
    "        * [Sub Section 4.2.2](#sub_section_4_2_2)\n",
    "* [Google Trends Analysis](#chapter5)\n",
    "    * [Section 5.1](#section_5_1)\n",
    "        * [Sub Section 5.1.1](#sub_section_5_1_1)\n",
    "        * [Sub Section 5.1.2](#sub_section_5_1_2)\n",
    "    * [Section 5.2](#section_5_2)\n",
    "        * [Sub Section 5.2.1](#sub_section_5_2_1)\n",
    "        * [Sub Section 5.2.2](#sub_section_5_2_2)\n",
    "* [Conclusion](#chapter6)\n",
    "    * [Section 3.1](#section_6_1)\n",
    "        * [Sub Section 6.1.1](#sub_section_6_1_1)\n",
    "        * [Sub Section 6.1.2](#sub_section_6_1_2)\n",
    "    * [Section 6.2](#section_6_2)\n",
    "        * [Sub Section 6.2.1](#sub_section_6_2_1)\n",
    "        * [Sub Section 6.2.2](#sub_section_6_2_2)"
   ]
  },
  {
   "cell_type": "markdown",
   "id": "d495c3c3",
   "metadata": {},
   "source": [
    "\n",
    "## Introduction <a class=\"anchor\" id=\"chapter1\"></a>\n",
    "This is chapter number 1\n",
    "### Section 1.1 <a class=\"anchor\" id=\"section_1_1\"></a>\n",
    "This is section 1.1\n",
    "##### Section 1.1.1 <a class=\"anchor\" id=\"sub_section_1_1_1\"></a>\n",
    "This is sub section 1.1.1"
   ]
  },
  {
   "cell_type": "markdown",
   "id": "d7b6995f",
   "metadata": {},
   "source": [
    "## Approach <a class=\"anchor\" id=\"chapter2\"></a>\n",
    "This is chapter number 2\n",
    "### Section 2.1 <a class=\"anchor\" id=\"section_2_1\"></a\n",
    "This is section 2.1\n",
    "#### Section 2.1.1 <a class=\"anchor\" id=\"sub_section_2_1_1\"></a>\n",
    "This is sub section 2.1.1\n",
    "#### Section 2.1.2 <a class=\"anchor\" id=\"sub_section_2_1_2\"></a>\n",
    "This is sub section 2.1.2\n",
    "### Section 2.2 <a class=\"anchor\" id=\"section_2_2\"></a>\n",
    "This is section 2.2\n",
    "#### Section 2.2.1 <a class=\"anchor\" id=\"sub_section_2_2_1\"></a>\n",
    "This is sub section 2.2.1\n",
    "#### Section 2.2.2 <a class=\"anchor\" id=\"sub_section_2_2_2\"></a>\n",
    "This is sub section 2.2.2"
   ]
  },
  {
   "cell_type": "markdown",
   "id": "895b183f",
   "metadata": {},
   "source": [
    "## History of Presidential Election <a class=\"anchor\" id=\"chapter3\"></a>\n",
    "This is chapter number 3\n",
    "### Section 3.1 <a class=\"anchor\" id=\"section_3_1\"></a>\n",
    "This is section 3.1\n",
    "#### Section 3.1.1 <a class=\"anchor\" id=\"sub_section_3_1_1\"></a>\n",
    "This is sub section 3.1.1\n",
    "#### Section 3.1.2 <a class=\"anchor\" id=\"sub_section_3_1_2\"></a>\n",
    "This is sub section 3.1.2\n",
    "### Section 3.2 <a class=\"anchor\" id=\"section_3_2\"></a>\n",
    "This is section 3.2\n",
    "#### Section 3.2.1 <a class=\"anchor\" id=\"sub_section_3_2_1\"></a>\n",
    "This is sub section 3.2.1\n",
    "#### Section 3.2.2 <a class=\"anchor\" id=\"sub_section_3_2_2\"></a>\n",
    "This is sub section 3.2.2"
   ]
  },
  {
   "cell_type": "markdown",
   "id": "65f38f6e",
   "metadata": {},
   "source": [
    "### objectives \n",
    "\n",
    "1. Election result since 1999\n",
    "2. vote turn out since 1999\n",
    "3. vote turnout by region in 2003 and 2019\n",
    "4. Imapct of social media in 2015 and 2019 elections "
   ]
  },
  {
   "cell_type": "code",
   "execution_count": null,
   "id": "e8f48b8e",
   "metadata": {},
   "outputs": [],
   "source": []
  },
  {
   "cell_type": "code",
   "execution_count": null,
   "id": "bb53f013",
   "metadata": {},
   "outputs": [],
   "source": []
  },
  {
   "cell_type": "code",
   "execution_count": null,
   "id": "a82809c9",
   "metadata": {},
   "outputs": [],
   "source": []
  },
  {
   "cell_type": "code",
   "execution_count": null,
   "id": "5eb14726",
   "metadata": {},
   "outputs": [],
   "source": []
  },
  {
   "cell_type": "code",
   "execution_count": null,
   "id": "1ea7fcda",
   "metadata": {},
   "outputs": [],
   "source": []
  },
  {
   "cell_type": "code",
   "execution_count": null,
   "id": "718f0d70",
   "metadata": {},
   "outputs": [],
   "source": []
  },
  {
   "cell_type": "code",
   "execution_count": null,
   "id": "1bd10a3e",
   "metadata": {},
   "outputs": [],
   "source": []
  },
  {
   "cell_type": "code",
   "execution_count": null,
   "id": "5ba0698b",
   "metadata": {},
   "outputs": [],
   "source": []
  },
  {
   "cell_type": "code",
   "execution_count": null,
   "id": "078fd844",
   "metadata": {},
   "outputs": [],
   "source": []
  },
  {
   "cell_type": "code",
   "execution_count": null,
   "id": "bf8b54dd",
   "metadata": {},
   "outputs": [],
   "source": []
  },
  {
   "cell_type": "code",
   "execution_count": null,
   "id": "30153a5a",
   "metadata": {},
   "outputs": [],
   "source": []
  },
  {
   "cell_type": "code",
   "execution_count": null,
   "id": "fb64d6d7",
   "metadata": {},
   "outputs": [],
   "source": []
  },
  {
   "cell_type": "code",
   "execution_count": null,
   "id": "bd8d33f6",
   "metadata": {},
   "outputs": [],
   "source": []
  },
  {
   "cell_type": "code",
   "execution_count": null,
   "id": "103484b7",
   "metadata": {},
   "outputs": [],
   "source": []
  },
  {
   "cell_type": "code",
   "execution_count": null,
   "id": "ddcbbb1b",
   "metadata": {},
   "outputs": [],
   "source": []
  },
  {
   "cell_type": "code",
   "execution_count": null,
   "id": "60638f19",
   "metadata": {},
   "outputs": [],
   "source": []
  },
  {
   "cell_type": "code",
   "execution_count": null,
   "id": "7d3a93f7",
   "metadata": {},
   "outputs": [],
   "source": []
  },
  {
   "cell_type": "code",
   "execution_count": null,
   "id": "b9865a06",
   "metadata": {},
   "outputs": [],
   "source": []
  },
  {
   "cell_type": "code",
   "execution_count": null,
   "id": "508fc8f7",
   "metadata": {},
   "outputs": [],
   "source": []
  },
  {
   "cell_type": "code",
   "execution_count": null,
   "id": "5246e057",
   "metadata": {},
   "outputs": [],
   "source": []
  },
  {
   "cell_type": "code",
   "execution_count": null,
   "id": "30b026b0",
   "metadata": {},
   "outputs": [],
   "source": []
  },
  {
   "cell_type": "code",
   "execution_count": null,
   "id": "990304a3",
   "metadata": {},
   "outputs": [],
   "source": []
  },
  {
   "cell_type": "code",
   "execution_count": null,
   "id": "6a85b665",
   "metadata": {},
   "outputs": [],
   "source": []
  },
  {
   "cell_type": "code",
   "execution_count": null,
   "id": "6f5a625d",
   "metadata": {},
   "outputs": [],
   "source": []
  },
  {
   "cell_type": "code",
   "execution_count": null,
   "id": "70b13a06",
   "metadata": {},
   "outputs": [],
   "source": []
  },
  {
   "cell_type": "code",
   "execution_count": null,
   "id": "5584999c",
   "metadata": {},
   "outputs": [],
   "source": []
  },
  {
   "cell_type": "code",
   "execution_count": null,
   "id": "15c18cef",
   "metadata": {},
   "outputs": [],
   "source": []
  },
  {
   "cell_type": "code",
   "execution_count": null,
   "id": "fef2e339",
   "metadata": {},
   "outputs": [],
   "source": []
  },
  {
   "cell_type": "code",
   "execution_count": null,
   "id": "fd905338",
   "metadata": {},
   "outputs": [],
   "source": []
  },
  {
   "cell_type": "code",
   "execution_count": null,
   "id": "53d8670e",
   "metadata": {},
   "outputs": [],
   "source": []
  },
  {
   "cell_type": "code",
   "execution_count": null,
   "id": "d23af382",
   "metadata": {},
   "outputs": [],
   "source": []
  },
  {
   "cell_type": "code",
   "execution_count": null,
   "id": "28327368",
   "metadata": {},
   "outputs": [],
   "source": []
  },
  {
   "cell_type": "code",
   "execution_count": null,
   "id": "13aa6380",
   "metadata": {},
   "outputs": [],
   "source": []
  },
  {
   "cell_type": "markdown",
   "id": "110c7e27",
   "metadata": {},
   "source": [
    "## Twitter Analysis <a class=\"anchor\" id=\"chapter4\"></a>\n",
    "This is chapter number 4\n",
    "### Section 4.1 <a class=\"anchor\" id=\"section_4_1\"></a>\n",
    "This is section 4.1\n",
    "#### Section 4.1.1 <a class=\"anchor\" id=\"sub_section_4_1_1\"></a>\n",
    "This is sub section 4.1.1\n",
    "#### Section 4.1.2 <a class=\"anchor\" id=\"sub_section_4_1_2\"></a>\n",
    "This is sub section 4.1.2\n",
    "### Section 4.2 <a class=\"anchor\" id=\"section_4_2\"></a>\n",
    "This is section 4.2\n",
    "#### Section 4.2.1 <a class=\"anchor\" id=\"sub_section_4_2_1\"></a>\n",
    "This is sub section 4.2.1\n",
    "#### Section 4.2.2 <a class=\"anchor\" id=\"sub_section_4_2_2\"></a>\n",
    "This is sub section 4.2.2\n"
   ]
  },
  {
   "cell_type": "markdown",
   "id": "150600b7",
   "metadata": {},
   "source": [
    "## Google Trends Analysis <a class=\"anchor\" id=\"chapter5\"></a>\n",
    "This is chapter number 5\n",
    "### Section 5.1 <a class=\"anchor\" id=\"section_5_1\"></a>\n",
    "This is section 5.1\n",
    "#### Section 5.1.1 <a class=\"anchor\" id=\"sub_section_5_1_1\"></a>\n",
    "This is sub section 5.1.1\n",
    "#### Section 5.1.2 <a class=\"anchor\" id=\"sub_section_5_1_2\"></a>\n",
    "This is sub section 5.1.2\n",
    "### Section 5.2 <a class=\"anchor\" id=\"section_5_2\"></a>\n",
    "This is section 5.2\n",
    "#### Section 5.2.1 <a class=\"anchor\" id=\"sub_section_5_2_1\"></a>\n",
    "This is sub section 5.2.1\n",
    "#### Section 5.2.2 <a class=\"anchor\" id=\"sub_section_5_2_2\"></a>\n",
    "This is sub section 5.2.2"
   ]
  },
  {
   "cell_type": "markdown",
   "id": "dc86a0d6",
   "metadata": {},
   "source": [
    "## Conclusion <a class=\"anchor\" id=\"chapter6\"></a>\n",
    "This is chapter number 6\n",
    "### Section 6.1 <a class=\"anchor\" id=\"section_6_1\"></a>\n",
    "This is section 6.1\n",
    "#### Section 6.1.1 <a class=\"anchor\" id=\"sub_section_6_1_1\"></a>\n",
    "This is sub section 6.1.1\n",
    "#### Section 6.1.2 <a class=\"anchor\" id=\"sub_section_6_1_2\"></a>\n",
    "This is sub section 6.1.2\n",
    "### Section 6.2 <a class=\"anchor\" id=\"section_6_2\"></a>\n",
    "This is section 6.2\n",
    "#### Section 6.2.1 <a class=\"anchor\" id=\"sub_section_6_2_1\"></a>\n",
    "This is sub section 6.2.1\n",
    "#### Section 6.2.2 <a class=\"anchor\" id=\"sub_section_6_2_2\"></a>\n",
    "This is sub section 6.2.2"
   ]
  },
  {
   "cell_type": "code",
   "execution_count": null,
   "id": "146e07fc",
   "metadata": {},
   "outputs": [],
   "source": []
  }
 ],
 "metadata": {
  "kernelspec": {
   "display_name": "Python 3",
   "language": "python",
   "name": "python3"
  },
  "language_info": {
   "codemirror_mode": {
    "name": "ipython",
    "version": 3
   },
   "file_extension": ".py",
   "mimetype": "text/x-python",
   "name": "python",
   "nbconvert_exporter": "python",
   "pygments_lexer": "ipython3",
   "version": "3.8.8"
  }
 },
 "nbformat": 4,
 "nbformat_minor": 5
}
